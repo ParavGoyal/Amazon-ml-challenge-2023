{
  "cells": [
    {
      "cell_type": "code",
      "execution_count": null,
      "id": "0ba69e98",
      "metadata": {
        "id": "0ba69e98",
        "outputId": "a879b253-577c-481b-bacb-bc461daf1e2b"
      },
      "outputs": [
        {
          "name": "stderr",
          "output_type": "stream",
          "text": [
            "ERROR: Could not install packages due to an OSError: [WinError 5] Access is denied: 'C:\\\\Users\\\\Utsav Goyal\\\\anaconda3\\\\Lib\\\\site-packages\\\\langdetect\\\\__init__.py'\n",
            "Consider using the `--user` option or check the permissions.\n",
            "\n"
          ]
        },
        {
          "name": "stdout",
          "output_type": "stream",
          "text": [
            "Collecting langdetect\n",
            "  Downloading langdetect-1.0.9.tar.gz (981 kB)\n",
            "Requirement already satisfied: six in c:\\users\\utsav goyal\\anaconda3\\lib\\site-packages (from langdetect) (1.16.0)\n",
            "Building wheels for collected packages: langdetect\n",
            "  Building wheel for langdetect (setup.py): started\n",
            "  Building wheel for langdetect (setup.py): finished with status 'done'\n",
            "  Created wheel for langdetect: filename=langdetect-1.0.9-py3-none-any.whl size=993242 sha256=b253bec5275c0d5bffc7c8951053e95f601cde76213830e781c64532159fea1e\n",
            "  Stored in directory: c:\\users\\utsav goyal\\appdata\\local\\pip\\cache\\wheels\\d1\\c1\\d9\\7e068de779d863bc8f8fc9467d85e25cfe47fa5051fff1a1bb\n",
            "Successfully built langdetect\n",
            "Installing collected packages: langdetect\n",
            "Collecting langdetect\n",
            "  Downloading langdetect-1.0.9.tar.gz (981 kB)\n",
            "Requirement already satisfied: six in c:\\users\\utsav goyal\\anaconda3\\lib\\site-packages (from langdetect) (1.16.0)\n",
            "Building wheels for collected packages: langdetect\n",
            "  Building wheel for langdetect (setup.py): started\n",
            "  Building wheel for langdetect (setup.py): finished with status 'done'\n",
            "  Created wheel for langdetect: filename=langdetect-1.0.9-py3-none-any.whl size=993242 sha256=b253bec5275c0d5bffc7c8951053e95f601cde76213830e781c64532159fea1e\n",
            "  Stored in directory: c:\\users\\utsav goyal\\appdata\\local\\pip\\cache\\wheels\\d1\\c1\\d9\\7e068de779d863bc8f8fc9467d85e25cfe47fa5051fff1a1bb\n",
            "Successfully built langdetect\n",
            "Installing collected packages: langdetect\n",
            "Successfully installed langdetect-1.0.9\n",
            "Collecting langdetect\n",
            "  Using cached langdetect-1.0.9.tar.gz (981 kB)\n",
            "Requirement already satisfied: six in c:\\users\\utsav goyal\\anaconda3\\lib\\site-packages (from langdetect) (1.16.0)\n",
            "Building wheels for collected packages: langdetect\n",
            "  Building wheel for langdetect (setup.py): started\n",
            "  Building wheel for langdetect (setup.py): finished with status 'done'\n",
            "  Created wheel for langdetect: filename=langdetect-1.0.9-py3-none-any.whl size=993242 sha256=cdde1ab5c430c55013a20eb76dd87def6f05a4396b2d3aab3387c341d3a3f160\n",
            "  Stored in directory: c:\\users\\utsav goyal\\appdata\\local\\pip\\cache\\wheels\\d1\\c1\\d9\\7e068de779d863bc8f8fc9467d85e25cfe47fa5051fff1a1bb\n",
            "Successfully built langdetect\n",
            "Installing collected packages: langdetect\n",
            "Successfully installed langdetect-1.0.9\n"
          ]
        }
      ],
      "source": [
        "!pip install langdetect"
      ]
    },
    {
      "cell_type": "code",
      "execution_count": null,
      "id": "2fb00ae0",
      "metadata": {
        "id": "2fb00ae0"
      },
      "outputs": [],
      "source": [
        "import pandas as pd\n",
        "\n",
        "\n",
        "\n",
        "\n",
        "\n",
        "\n",
        "\n",
        "from langdetect import detect\n",
        "import nltk\n",
        "import re\n",
        "# df = pd.read_csv(r\"C:\\Users\\Utsav Goyal\\Downloads\\dataset\\train.csv\")\n",
        "# new_df= df.iloc[:200000]\n"
      ]
    },
    {
      "cell_type": "code",
      "execution_count": null,
      "id": "d98810d0",
      "metadata": {
        "id": "d98810d0",
        "outputId": "c035cb5a-f47f-4b34-a340-2b5948f46270"
      },
      "outputs": [
        {
          "name": "stdout",
          "output_type": "stream",
          "text": [
            "Chunk No.: 1 Begins....\n",
            "\n",
            "Chunk No.: 2 Ends....\n",
            "\n",
            "Chunk No.: 2 Begins....\n",
            "\n",
            "Chunk No.: 3 Ends....\n",
            "\n",
            "Chunk No.: 3 Begins....\n",
            "\n",
            "Chunk No.: 4 Ends....\n",
            "\n",
            "Chunk No.: 4 Begins....\n",
            "\n",
            "Chunk No.: 5 Ends....\n",
            "\n",
            "Chunk No.: 5 Begins....\n",
            "\n",
            "Chunk No.: 6 Ends....\n",
            "\n",
            "Chunk No.: 6 Begins....\n",
            "\n",
            "Chunk No.: 7 Ends....\n",
            "\n",
            "Chunk No.: 7 Begins....\n",
            "\n",
            "Chunk No.: 8 Ends....\n",
            "\n",
            "Chunk No.: 8 Begins....\n",
            "\n",
            "Chunk No.: 9 Ends....\n",
            "\n",
            "Chunk No.: 9 Begins....\n",
            "\n"
          ]
        }
      ],
      "source": [
        "import pandas as pd\n",
        "import numpy as np\n",
        "from langdetect import detect\n",
        "\n",
        "# Set the chunk size for reading the CSV file\n",
        "chunksize = 50000\n",
        "\n",
        "# Define the function to check if text is in English\n",
        "def is_english(text):\n",
        "    try:\n",
        "        return detect(text) == 'en'\n",
        "    except:\n",
        "        return False\n",
        "\n",
        "# Create an empty list to store the filtered dataframes\n",
        "dfs = []\n",
        "count = 1\n",
        "# Read the CSV file in chunks\n",
        "for chunk in pd.read_csv(r\"C:\\Users\\Utsav Goyal\\Downloads\\dataset\\train.csv\", chunksize=chunksize):\n",
        "    print(\"Chunk No.: \" + str(count) + \" Begins....\\n\")\n",
        "    # Filter the rows with English text\n",
        "    chunk = chunk[chunk['TITLE'].apply(is_english)]\n",
        "    # Concatenate the title, bullet points, and description columns into a single column\n",
        "    chunk['TITLE'] = chunk[['TITLE', 'BULLET_POINTS', 'DESCRIPTION']].astype(str).apply(lambda x: ''.join(x), axis=1)\n",
        "    # Drop the unnecessary columns\n",
        "    chunk.drop(['BULLET_POINTS', 'DESCRIPTION'], axis=1, inplace=True)\n",
        "    # Append the filtered dataframe to the list\n",
        "#     dfs.append(chunk)\n",
        "    count = count + 1 \n",
        "    chunk.to_csv('ans'+str(count)+'.csv', index=False)\n",
        "    print(\"Chunk No.: \" + str(count) + \" Ends....\\n\")\n",
        "\n",
        "# Concatenate all the filtered dataframes into a single dataframe\n",
        "# new_df = pd.concat(dfs)\n",
        "\n",
        "# Save the filtered dataframe to a CSV file\n",
        "\n"
      ]
    },
    {
      "cell_type": "code",
      "execution_count": null,
      "id": "f1adb5fb",
      "metadata": {
        "id": "f1adb5fb",
        "outputId": "9f6bb07a-a58b-4a3b-cd0f-68ac32c6bb7c"
      },
      "outputs": [
        {
          "ename": "NameError",
          "evalue": "name 'new_df' is not defined",
          "output_type": "error",
          "traceback": [
            "\u001b[1;31m---------------------------------------------------------------------------\u001b[0m",
            "\u001b[1;31mNameError\u001b[0m                                 Traceback (most recent call last)",
            "\u001b[1;32mC:\\Users\\UTSAVG~1\\AppData\\Local\\Temp/ipykernel_8564/38479553.py\u001b[0m in \u001b[0;36m<module>\u001b[1;34m\u001b[0m\n\u001b[1;32m----> 1\u001b[1;33m \u001b[0mprint\u001b[0m\u001b[1;33m(\u001b[0m\u001b[0mnew_df\u001b[0m\u001b[1;33m)\u001b[0m\u001b[1;33m\u001b[0m\u001b[1;33m\u001b[0m\u001b[0m\n\u001b[0m",
            "\u001b[1;31mNameError\u001b[0m: name 'new_df' is not defined"
          ]
        }
      ],
      "source": [
        "print(new_df)"
      ]
    },
    {
      "cell_type": "markdown",
      "id": "34ffff51",
      "metadata": {
        "id": "34ffff51"
      },
      "source": [
        "8.21"
      ]
    }
  ],
  "metadata": {
    "kernelspec": {
      "display_name": "Python 3 (ipykernel)",
      "language": "python",
      "name": "python3"
    },
    "language_info": {
      "codemirror_mode": {
        "name": "ipython",
        "version": 3
      },
      "file_extension": ".py",
      "mimetype": "text/x-python",
      "name": "python",
      "nbconvert_exporter": "python",
      "pygments_lexer": "ipython3",
      "version": "3.9.7"
    },
    "colab": {
      "provenance": []
    }
  },
  "nbformat": 4,
  "nbformat_minor": 5
}